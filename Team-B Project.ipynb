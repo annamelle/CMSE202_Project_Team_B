{
 "cells": [
  {
   "cell_type": "markdown",
   "metadata": {},
   "source": [
    "# Team B Project"
   ]
  },
  {
   "cell_type": "markdown",
   "metadata": {},
   "source": [
    "## Analysis on Oil Prices"
   ]
  },
  {
   "cell_type": "markdown",
   "metadata": {},
   "source": [
    "## Loading in Data"
   ]
  },
  {
   "cell_type": "code",
   "execution_count": 3,
   "metadata": {},
   "outputs": [],
   "source": [
    "#import box\n",
    "import pandas as pd\n",
    "import matplotlib.pyplot as plt\n",
    "import numpy as np\n",
    "from statsmodels.tsa.ar_model import AutoReg\n",
    "from sklearn.metrics import mean_squared_error\n",
    "from math import sqrt\n",
    "import sklearn.datasets\n",
    "from sklearn import svm\n",
    "import sklearn\n",
    "from sklearn.decomposition import PCA"
   ]
  },
  {
   "cell_type": "code",
   "execution_count": 6,
   "metadata": {},
   "outputs": [
    {
     "data": {
      "text/html": [
       "<div>\n",
       "<style scoped>\n",
       "    .dataframe tbody tr th:only-of-type {\n",
       "        vertical-align: middle;\n",
       "    }\n",
       "\n",
       "    .dataframe tbody tr th {\n",
       "        vertical-align: top;\n",
       "    }\n",
       "\n",
       "    .dataframe thead th {\n",
       "        text-align: right;\n",
       "    }\n",
       "</style>\n",
       "<table border=\"1\" class=\"dataframe\">\n",
       "  <thead>\n",
       "    <tr style=\"text-align: right;\">\n",
       "      <th></th>\n",
       "      <th>Date</th>\n",
       "      <th>Price</th>\n",
       "    </tr>\n",
       "  </thead>\n",
       "  <tbody>\n",
       "    <tr>\n",
       "      <th>0</th>\n",
       "      <td>20-May-87</td>\n",
       "      <td>18.63</td>\n",
       "    </tr>\n",
       "    <tr>\n",
       "      <th>1</th>\n",
       "      <td>21-May-87</td>\n",
       "      <td>18.45</td>\n",
       "    </tr>\n",
       "    <tr>\n",
       "      <th>2</th>\n",
       "      <td>22-May-87</td>\n",
       "      <td>18.55</td>\n",
       "    </tr>\n",
       "    <tr>\n",
       "      <th>3</th>\n",
       "      <td>25-May-87</td>\n",
       "      <td>18.60</td>\n",
       "    </tr>\n",
       "    <tr>\n",
       "      <th>4</th>\n",
       "      <td>26-May-87</td>\n",
       "      <td>18.63</td>\n",
       "    </tr>\n",
       "  </tbody>\n",
       "</table>\n",
       "</div>"
      ],
      "text/plain": [
       "        Date  Price\n",
       "0  20-May-87  18.63\n",
       "1  21-May-87  18.45\n",
       "2  22-May-87  18.55\n",
       "3  25-May-87  18.60\n",
       "4  26-May-87  18.63"
      ]
     },
     "execution_count": 6,
     "metadata": {},
     "output_type": "execute_result"
    }
   ],
   "source": [
    "#loading in data\n",
    "BrentOilPrices = pd.read_csv('BrentOilPrices.csv',parse_dates=True)\n",
    "#plt.plot(BrentOilPrices['Price'])\n",
    "BrentOilPrices.std()\n",
    "import_countries = pd.read_csv('ImportCountries.csv',delimiter=',')\n",
    "\n",
    "'''for i in BrentOilPricesGlobal['LOCATION']:\n",
    "    if i == 'AUS':\n",
    "        print(BrentOilPricesGlobal[i]['PRICE'])'''\n",
    "\n",
    "'''BrentOilAus = BrentOilPricesGlobal.iloc[0:42]\n",
    "BrentOilAusVal = BrentOilAus['Value']\n",
    "plt.plot(range(len(BrentOilAus['TIME'])),BrentOilAusVal)\n",
    "\n",
    "BrentOilAut = BrentOilPricesGlobal.iloc[43:81]\n",
    "BrentOilAutVal = BrentOilAut['Value']\n",
    "plt.plot(range(len(BrentOilAut['TIME'])),BrentOilAutVal)\n",
    "\n",
    "#right now our x axis is in undefined units'''\n",
    "\n",
    "BrentOilPrices.head()"
   ]
  },
  {
   "cell_type": "code",
   "execution_count": 7,
   "metadata": {},
   "outputs": [
    {
     "data": {
      "text/html": [
       "<div>\n",
       "<style scoped>\n",
       "    .dataframe tbody tr th:only-of-type {\n",
       "        vertical-align: middle;\n",
       "    }\n",
       "\n",
       "    .dataframe tbody tr th {\n",
       "        vertical-align: top;\n",
       "    }\n",
       "\n",
       "    .dataframe thead th {\n",
       "        text-align: right;\n",
       "    }\n",
       "</style>\n",
       "<table border=\"1\" class=\"dataframe\">\n",
       "  <thead>\n",
       "    <tr style=\"text-align: right;\">\n",
       "      <th></th>\n",
       "      <th>LOCATION</th>\n",
       "      <th>INDICATOR</th>\n",
       "      <th>SUBJECT</th>\n",
       "      <th>MEASURE</th>\n",
       "      <th>FREQUENCY</th>\n",
       "      <th>TIME</th>\n",
       "      <th>Value</th>\n",
       "      <th>Flag Codes</th>\n",
       "    </tr>\n",
       "  </thead>\n",
       "  <tbody>\n",
       "    <tr>\n",
       "      <th>0</th>\n",
       "      <td>AUS</td>\n",
       "      <td>OILIMPPRICE</td>\n",
       "      <td>TOT</td>\n",
       "      <td>USD_BAR</td>\n",
       "      <td>A</td>\n",
       "      <td>1980</td>\n",
       "      <td>31.81</td>\n",
       "      <td>NaN</td>\n",
       "    </tr>\n",
       "    <tr>\n",
       "      <th>1</th>\n",
       "      <td>AUS</td>\n",
       "      <td>OILIMPPRICE</td>\n",
       "      <td>TOT</td>\n",
       "      <td>USD_BAR</td>\n",
       "      <td>A</td>\n",
       "      <td>1981</td>\n",
       "      <td>35.88</td>\n",
       "      <td>NaN</td>\n",
       "    </tr>\n",
       "    <tr>\n",
       "      <th>2</th>\n",
       "      <td>AUS</td>\n",
       "      <td>OILIMPPRICE</td>\n",
       "      <td>TOT</td>\n",
       "      <td>USD_BAR</td>\n",
       "      <td>A</td>\n",
       "      <td>1982</td>\n",
       "      <td>35.42</td>\n",
       "      <td>NaN</td>\n",
       "    </tr>\n",
       "    <tr>\n",
       "      <th>3</th>\n",
       "      <td>AUS</td>\n",
       "      <td>OILIMPPRICE</td>\n",
       "      <td>TOT</td>\n",
       "      <td>USD_BAR</td>\n",
       "      <td>A</td>\n",
       "      <td>1983</td>\n",
       "      <td>30.88</td>\n",
       "      <td>NaN</td>\n",
       "    </tr>\n",
       "    <tr>\n",
       "      <th>4</th>\n",
       "      <td>AUS</td>\n",
       "      <td>OILIMPPRICE</td>\n",
       "      <td>TOT</td>\n",
       "      <td>USD_BAR</td>\n",
       "      <td>A</td>\n",
       "      <td>1984</td>\n",
       "      <td>29.19</td>\n",
       "      <td>NaN</td>\n",
       "    </tr>\n",
       "  </tbody>\n",
       "</table>\n",
       "</div>"
      ],
      "text/plain": [
       "  LOCATION    INDICATOR SUBJECT  MEASURE FREQUENCY  TIME  Value Flag Codes\n",
       "0      AUS  OILIMPPRICE     TOT  USD_BAR         A  1980  31.81        NaN\n",
       "1      AUS  OILIMPPRICE     TOT  USD_BAR         A  1981  35.88        NaN\n",
       "2      AUS  OILIMPPRICE     TOT  USD_BAR         A  1982  35.42        NaN\n",
       "3      AUS  OILIMPPRICE     TOT  USD_BAR         A  1983  30.88        NaN\n",
       "4      AUS  OILIMPPRICE     TOT  USD_BAR         A  1984  29.19        NaN"
      ]
     },
     "execution_count": 7,
     "metadata": {},
     "output_type": "execute_result"
    }
   ],
   "source": [
    "import_countries.head()"
   ]
  },
  {
   "cell_type": "code",
   "execution_count": 8,
   "metadata": {},
   "outputs": [
    {
     "data": {
      "text/plain": [
       "array(['A', 'Q', 'M'], dtype=object)"
      ]
     },
     "execution_count": 8,
     "metadata": {},
     "output_type": "execute_result"
    }
   ],
   "source": [
    "import_countries.FREQUENCY.unique()"
   ]
  },
  {
   "cell_type": "markdown",
   "metadata": {},
   "source": [
    "## Initial looks at data"
   ]
  },
  {
   "cell_type": "code",
   "execution_count": 9,
   "metadata": {
    "scrolled": true
   },
   "outputs": [
    {
     "data": {
      "text/html": [
       "<div>\n",
       "<style scoped>\n",
       "    .dataframe tbody tr th:only-of-type {\n",
       "        vertical-align: middle;\n",
       "    }\n",
       "\n",
       "    .dataframe tbody tr th {\n",
       "        vertical-align: top;\n",
       "    }\n",
       "\n",
       "    .dataframe thead th {\n",
       "        text-align: right;\n",
       "    }\n",
       "</style>\n",
       "<table border=\"1\" class=\"dataframe\">\n",
       "  <thead>\n",
       "    <tr style=\"text-align: right;\">\n",
       "      <th></th>\n",
       "      <th>Date</th>\n",
       "      <th>Price</th>\n",
       "      <th>day</th>\n",
       "      <th>month</th>\n",
       "      <th>year</th>\n",
       "    </tr>\n",
       "  </thead>\n",
       "  <tbody>\n",
       "    <tr>\n",
       "      <th>8</th>\n",
       "      <td>1-Jun-87</td>\n",
       "      <td>18.65</td>\n",
       "      <td>1</td>\n",
       "      <td>Jun</td>\n",
       "      <td>87</td>\n",
       "    </tr>\n",
       "    <tr>\n",
       "      <th>29</th>\n",
       "      <td>1-Jul-87</td>\n",
       "      <td>18.98</td>\n",
       "      <td>1</td>\n",
       "      <td>Jul</td>\n",
       "      <td>87</td>\n",
       "    </tr>\n",
       "    <tr>\n",
       "      <th>73</th>\n",
       "      <td>1-Sep-87</td>\n",
       "      <td>18.43</td>\n",
       "      <td>1</td>\n",
       "      <td>Sep</td>\n",
       "      <td>87</td>\n",
       "    </tr>\n",
       "    <tr>\n",
       "      <th>95</th>\n",
       "      <td>1-Oct-87</td>\n",
       "      <td>18.50</td>\n",
       "      <td>1</td>\n",
       "      <td>Oct</td>\n",
       "      <td>87</td>\n",
       "    </tr>\n",
       "    <tr>\n",
       "      <th>138</th>\n",
       "      <td>1-Dec-87</td>\n",
       "      <td>17.65</td>\n",
       "      <td>1</td>\n",
       "      <td>Dec</td>\n",
       "      <td>87</td>\n",
       "    </tr>\n",
       "  </tbody>\n",
       "</table>\n",
       "</div>"
      ],
      "text/plain": [
       "         Date  Price day month year\n",
       "8    1-Jun-87  18.65   1   Jun   87\n",
       "29   1-Jul-87  18.98   1   Jul   87\n",
       "73   1-Sep-87  18.43   1   Sep   87\n",
       "95   1-Oct-87  18.50   1   Oct   87\n",
       "138  1-Dec-87  17.65   1   Dec   87"
      ]
     },
     "execution_count": 9,
     "metadata": {},
     "output_type": "execute_result"
    }
   ],
   "source": [
    "BrentOilPrices[[\"day\", \"month\", \"year\"]] = BrentOilPrices[\"Date\"].str.split(\"-\", expand = True)\n",
    "BrentOilPricesMonthly = BrentOilPrices[BrentOilPrices['day']== '1']\n",
    "BrentOilPricesMonthly.head()"
   ]
  },
  {
   "cell_type": "code",
   "execution_count": 10,
   "metadata": {},
   "outputs": [],
   "source": [
    "BrentOilPricesApril = BrentOilPrices[((BrentOilPrices['day']== 1) | (BrentOilPrices['day']==20)) & BrentOilPrices['month']=='Apr']"
   ]
  },
  {
   "cell_type": "code",
   "execution_count": 11,
   "metadata": {},
   "outputs": [
    {
     "data": {
      "text/plain": [
       "[<matplotlib.lines.Line2D at 0x7fd1a1b66c18>]"
      ]
     },
     "execution_count": 11,
     "metadata": {},
     "output_type": "execute_result"
    },
    {
     "data": {
      "image/png": "[encoded data removed]",
      "text/plain": [
       "<Figure size 432x288 with 1 Axes>"
      ]
     },
     "metadata": {
      "needs_background": "light"
     },
     "output_type": "display_data"
    }
   ],
   "source": [
    "plt.plot(BrentOilPricesMonthly['Date'],BrentOilPricesMonthly['Price'])"
   ]
  },
  {
   "cell_type": "code",
   "execution_count": 12,
   "metadata": {},
   "outputs": [],
   "source": [
    "oil_x = BrentOilPricesMonthly['Date']"
   ]
  },
  {
   "cell_type": "code",
   "execution_count": 13,
   "metadata": {},
   "outputs": [],
   "source": [
    "#eliminate the 2021 data\n",
    "BrentOilPricesAvgPerYear_temp = BrentOilPrices.drop([8538,8539,8540,8541,8542,8543,8544,8545,8546,8547,8548,8549,8550,8551,8552,8553])\n",
    "\n",
    "#create new dataframe with only necessary varibles \n",
    "BrentOilPricesAvgPerYear_temp = BrentOilPricesAvgPerYear_temp[[\"Price\", \"year\"]]\n",
    "BrentOilPricesAvgPerYear_temp[\"year\"] = BrentOilPricesAvgPerYear_temp[\"year\"].astype(int)\n",
    "\n",
    "#modify dataframe to show anual averages \n",
    "BrentOilPricesAvgPerYear = BrentOilPricesAvgPerYear_temp.groupby([\"year\"]).mean()\n",
    "\n",
    "#sort dataframe so it is in chronological order (_20 is for GDP per Capita)\n",
    "BrentOilPricesAvgPerYear_20 = BrentOilPricesAvgPerYear.reindex([87, 88, 89, 90, 91, 92, 93, 94, 95, 96, 97, 98, 99, 0, 1, 2, 3, 4, 5, 6, 7, 8, 9, 10, 11, 12, 13, 14, 15, 16, 17, 18, 19, 20])\n",
    "\n",
    "#remove 2019 & 2020 from dataframe \n",
    "BrentOilPricesAvgPerYear_18 = BrentOilPricesAvgPerYear.drop([19, 20])\n",
    "\n",
    "#sort dataframe so it is in chronological order (_18 is for S&P 500)\n",
    "BrentOilPricesAvgPerYear_18 = BrentOilPricesAvgPerYear_18.reindex([87, 88, 89, 90, 91, 92, 93, 94, 95, 96, 97, 98, 99, 0, 1, 2, 3, 4, 5, 6, 7, 8, 9, 10, 11, 12, 13, 14, 15, 16, 17, 18])"
   ]
  },
  {
   "cell_type": "code",
   "execution_count": 14,
   "metadata": {},
   "outputs": [
    {
     "name": "stderr",
     "output_type": "stream",
     "text": [
      "/opt/anaconda3/lib/python3.7/site-packages/ipykernel_launcher.py:12: SettingWithCopyWarning: \n",
      "A value is trying to be set on a copy of a slice from a DataFrame.\n",
      "Try using .loc[row_indexer,col_indexer] = value instead\n",
      "\n",
      "See the caveats in the documentation: https://pandas.pydata.org/pandas-docs/stable/user_guide/indexing.html#returning-a-view-versus-a-copy\n",
      "  if sys.path[0] == '':\n",
      "/opt/anaconda3/lib/python3.7/site-packages/ipykernel_launcher.py:13: SettingWithCopyWarning: \n",
      "A value is trying to be set on a copy of a slice from a DataFrame.\n",
      "Try using .loc[row_indexer,col_indexer] = value instead\n",
      "\n",
      "See the caveats in the documentation: https://pandas.pydata.org/pandas-docs/stable/user_guide/indexing.html#returning-a-view-versus-a-copy\n",
      "  del sys.path[0]\n"
     ]
    }
   ],
   "source": [
    "#load in data for GDP per Capita\n",
    "GdpPerCap = pd.read_csv(\"A939RX0Q048SBEA.csv\", names = [\"Date\", \"GdpPerCap\"])\n",
    "GdpPerCap = GdpPerCap.drop([0])\n",
    "\n",
    "#seperate date into multiple varibles \n",
    "GdpPerCap[[\"Year\", \"Month\", \"Day\"]] = GdpPerCap[\"Date\"].str.split(\"-\", expand = True)\n",
    "\n",
    "#create new dataframe with only necessary varibles \n",
    "GdpPerCapAvgPerYear_temp = GdpPerCap[[\"GdpPerCap\", \"Year\"]]\n",
    "\n",
    "#covert varibles to ints so they can be more easily handled\n",
    "GdpPerCapAvgPerYear_temp[\"GdpPerCap\"] = GdpPerCapAvgPerYear_temp[\"GdpPerCap\"].astype(float)\n",
    "GdpPerCapAvgPerYear_temp[\"Year\"] = GdpPerCapAvgPerYear_temp[\"Year\"].astype(int)\n",
    "\n",
    "#include only 1987 to 2020 to match Brent Oil Price data\n",
    "GdpPerCapAvgPerYear_temp = GdpPerCapAvgPerYear_temp[(GdpPerCapAvgPerYear_temp['Year'] >= 1987)]\n",
    "\n",
    "#modify dataframe to show anual averages \n",
    "GdpPerCapAvgPerYear = GdpPerCapAvgPerYear_temp.groupby([\"Year\"]).mean()"
   ]
  },
  {
   "cell_type": "code",
   "execution_count": 15,
   "metadata": {},
   "outputs": [],
   "source": [
    "#load in data for S&P 500\n",
    "Snp = pd.read_csv(\"spx.csv.xls\")\n",
    "\n",
    "#seperate date into multiple varibles \n",
    "Snp[[\"Day\", \"Month\", \"Year\"]] = Snp[\"date\"].str.split(\"-\", expand = True)\n",
    "\n",
    "#create new dataframe with only necessary varibles \n",
    "SpAvgPerYear_temp = Snp[[\"close\", \"Year\"]]\n",
    "\n",
    "#get rid of 1986 data to match Brent Oil Price data\n",
    "eliminate_sp = np.arange(0, 253, 1).tolist()\n",
    "SpAvgPerYear_temp = SpAvgPerYear_temp.drop(eliminate_sp)\n",
    "\n",
    "SpAvgPerYear_temp[\"Year\"] = SpAvgPerYear_temp[\"Year\"].astype(int)\n",
    "\n",
    "#modify dataframe to show anual averages\n",
    "SpAvgPerYear = SpAvgPerYear_temp.groupby([\"Year\"]).mean()\n",
    "\n",
    "#sort dataframe so it is in chronological order\n",
    "SpAvgPerYear = SpAvgPerYear.reindex([87, 88, 89, 90, 91, 92, 93, 94, 95, 96, 97, 98, 99, 0, 1, 2, 3, 4, 5, 6, 7, 8, 9, 10, 11, 12, 13, 14, 15, 16, 17, 18])"
   ]
  },
  {
   "cell_type": "code",
   "execution_count": 16,
   "metadata": {},
   "outputs": [
    {
     "data": {
      "image/png": "[encoded data removed]",
      "text/plain": [
       "<Figure size 720x360 with 1 Axes>"
      ]
     },
     "metadata": {
      "needs_background": "light"
     },
     "output_type": "display_data"
    }
   ],
   "source": [
    "#create list of years to help label each data point \n",
    "years_20 = np.arange(1987, 2021, 1).tolist()\n",
    "\n",
    "#plot GDP per Capita data v. Oil Price data\n",
    "plt.figure(figsize = (10, 5))\n",
    "plt.scatter(GdpPerCapAvgPerYear[\"GdpPerCap\"], BrentOilPricesAvgPerYear_20[\"Price\"])\n",
    "plt.title(\"Average Anual Gross Domestic Product (GDP) per Capita of US v. Average Anual Oil Prices (1987-2020)\")\n",
    "plt.xlabel(\"GDP per Capita (US$)\")\n",
    "plt.ylabel(\"Oil Prices (US$/barrell)\")\n",
    "\n",
    "#label each data point with the year it represents\n",
    "for i, txt in enumerate(years_20):\n",
    "    plt.annotate(txt, (GdpPerCapAvgPerYear[\"GdpPerCap\"].iloc[i], BrentOilPricesAvgPerYear_20[\"Price\"].iloc[i]))\n",
    "\n",
    "#mark important data points\n",
    "plt.scatter(GdpPerCapAvgPerYear[\"GdpPerCap\"].iloc[21], BrentOilPricesAvgPerYear_20[\"Price\"].iloc[21], color = \"red\")\n",
    "plt.scatter(GdpPerCapAvgPerYear[\"GdpPerCap\"].iloc[27], BrentOilPricesAvgPerYear_20[\"Price\"].iloc[27], color = \"red\")\n",
    "\n",
    "plt.tight_layout()"
   ]
  },
  {
   "cell_type": "code",
   "execution_count": 17,
   "metadata": {},
   "outputs": [
    {
     "data": {
      "image/png": "[encoded data removed]",
      "text/plain": [
       "<Figure size 720x360 with 1 Axes>"
      ]
     },
     "metadata": {
      "needs_background": "light"
     },
     "output_type": "display_data"
    }
   ],
   "source": [
    "#create list of years to help label each data point \n",
    "years_18 = np.arange(1987, 2019, 1).tolist()\n",
    "\n",
    "#plot S&P 500 data v. Oil Price data\n",
    "plt.figure(figsize = (10, 5))\n",
    "plt.scatter(SpAvgPerYear[\"close\"], BrentOilPricesAvgPerYear_18[\"Price\"])\n",
    "plt.title(\"Average Anual S&P 500 Closing Price v. Average Anual Oil Prices (1987-2018)\")\n",
    "plt.xlabel(\"S&P 500 (US$)\")\n",
    "plt.ylabel(\"Oil Prices (US$/barrell)\")\n",
    "\n",
    "#label each data point with the year it represents \n",
    "for i, txt in enumerate(years_18):\n",
    "    plt.annotate(txt, (SpAvgPerYear[\"close\"].iloc[i], BrentOilPricesAvgPerYear_18[\"Price\"].iloc[i]))\n",
    "    \n",
    "#mark important data points\n",
    "plt.scatter(SpAvgPerYear[\"close\"].iloc[21], BrentOilPricesAvgPerYear_18[\"Price\"].iloc[21], color = \"red\")\n",
    "plt.scatter(SpAvgPerYear[\"close\"].iloc[27], BrentOilPricesAvgPerYear_18[\"Price\"].iloc[27], color = \"red\")\n",
    "    \n",
    "plt.tight_layout()"
   ]
  },
  {
   "cell_type": "markdown",
   "metadata": {},
   "source": [
    "## Analysis "
   ]
  },
  {
   "cell_type": "markdown",
   "metadata": {},
   "source": [
    "#### Model 1: Autoregression model\n",
    "\n",
    "Model based on history of oil prices. Looked at difference between previous year's price and current year's price. Used this information to find coefficients, and make predictions based on history and coefficients"
   ]
  },
  {
   "cell_type": "code",
   "execution_count": 18,
   "metadata": {},
   "outputs": [
    {
     "name": "stdout",
     "output_type": "stream",
     "text": [
      "Test RMSE: 10.443\n"
     ]
    },
    {
     "name": "stderr",
     "output_type": "stream",
     "text": [
      "/opt/anaconda3/lib/python3.7/site-packages/statsmodels/tsa/ar_model.py:252: FutureWarning: The parameter names will change after 0.12 is released. Set old_names to False to use the new names now. Set old_names to True to use the old names. \n",
      "  FutureWarning,\n"
     ]
    },
    {
     "data": {
      "image/png": "[encoded data removed]",
      "text/plain": [
       "<Figure size 432x288 with 1 Axes>"
      ]
     },
     "metadata": {
      "needs_background": "light"
     },
     "output_type": "display_data"
    }
   ],
   "source": [
    "#function to get difference between price and previous years price\n",
    "def difference(df):\n",
    "    diff = list()\n",
    "    for i in range(1,len(df)):\n",
    "        value = df[i] - df[i -1]\n",
    "        diff.append(value)\n",
    "    return np.array(diff)\n",
    "\n",
    "#predicts price based on history and coeffecients\n",
    "def predict(coef,history):\n",
    "    yhat = coef[0]\n",
    "    for i in range(1,len(coef)):\n",
    "        yhat +=coef[i] * history[-i]\n",
    "    return yhat \n",
    "\n",
    "#builds difference variable, and splits in train and test\n",
    "x = difference(list(BrentOilPricesMonthly['Price']))\n",
    "size = int(len(x) *.66)\n",
    "train,test = x[0:size],x[size:]\n",
    "\n",
    "#Builds Autoregession model \n",
    "window = 6 \n",
    "model = AutoReg(train, lags=6)\n",
    "model_fit = model.fit()\n",
    "coef = model_fit.params \n",
    "\n",
    "\n",
    "#going through and making predictions\n",
    "history = [train[i] for i in range(len(train))]\n",
    "predictions = list()\n",
    "for t in range(len(test)):\n",
    "    yhat = predict(coef,history)\n",
    "    obs = test[t]\n",
    "    predictions.append(yhat)\n",
    "    history.append(obs)\n",
    "rmse = sqrt(mean_squared_error(test,predictions))\n",
    "print('Test RMSE: %.3f' % rmse)\n",
    "\n",
    "#plotting predictions vs actual\n",
    "plt.plot(test)\n",
    "plt.plot(predictions,color='red')\n",
    "plt.show()\n",
    "\n"
   ]
  },
  {
   "cell_type": "code",
   "execution_count": 19,
   "metadata": {},
   "outputs": [
    {
     "data": {
      "text/plain": [
       "array([ 0.47236258,  0.19799712, -0.02449749, -0.43358889,  0.01889444,\n",
       "        0.03561501, -0.24780747])"
      ]
     },
     "execution_count": 19,
     "metadata": {},
     "output_type": "execute_result"
    }
   ],
   "source": [
    "model_fit.params "
   ]
  },
  {
   "cell_type": "markdown",
   "metadata": {},
   "source": [
    "#### Model 2: SVM and PCA \n"
   ]
  },
  {
   "cell_type": "code",
   "execution_count": 20,
   "metadata": {},
   "outputs": [
    {
     "data": {
      "text/html": [
       "<div>\n",
       "<style scoped>\n",
       "    .dataframe tbody tr th:only-of-type {\n",
       "        vertical-align: middle;\n",
       "    }\n",
       "\n",
       "    .dataframe tbody tr th {\n",
       "        vertical-align: top;\n",
       "    }\n",
       "\n",
       "    .dataframe thead th {\n",
       "        text-align: right;\n",
       "    }\n",
       "</style>\n",
       "<table border=\"1\" class=\"dataframe\">\n",
       "  <thead>\n",
       "    <tr style=\"text-align: right;\">\n",
       "      <th></th>\n",
       "      <th>LOCATION</th>\n",
       "      <th>TIME</th>\n",
       "      <th>Value</th>\n",
       "    </tr>\n",
       "  </thead>\n",
       "  <tbody>\n",
       "    <tr>\n",
       "      <th>0</th>\n",
       "      <td>AUS</td>\n",
       "      <td>1980</td>\n",
       "      <td>31.81</td>\n",
       "    </tr>\n",
       "    <tr>\n",
       "      <th>1</th>\n",
       "      <td>AUS</td>\n",
       "      <td>1981</td>\n",
       "      <td>35.88</td>\n",
       "    </tr>\n",
       "    <tr>\n",
       "      <th>2</th>\n",
       "      <td>AUS</td>\n",
       "      <td>1982</td>\n",
       "      <td>35.42</td>\n",
       "    </tr>\n",
       "    <tr>\n",
       "      <th>3</th>\n",
       "      <td>AUS</td>\n",
       "      <td>1983</td>\n",
       "      <td>30.88</td>\n",
       "    </tr>\n",
       "    <tr>\n",
       "      <th>4</th>\n",
       "      <td>AUS</td>\n",
       "      <td>1984</td>\n",
       "      <td>29.19</td>\n",
       "    </tr>\n",
       "    <tr>\n",
       "      <th>...</th>\n",
       "      <td>...</td>\n",
       "      <td>...</td>\n",
       "      <td>...</td>\n",
       "    </tr>\n",
       "    <tr>\n",
       "      <th>274</th>\n",
       "      <td>FIN</td>\n",
       "      <td>2014</td>\n",
       "      <td>97.53</td>\n",
       "    </tr>\n",
       "    <tr>\n",
       "      <th>275</th>\n",
       "      <td>FIN</td>\n",
       "      <td>2015</td>\n",
       "      <td>49.28</td>\n",
       "    </tr>\n",
       "    <tr>\n",
       "      <th>276</th>\n",
       "      <td>FIN</td>\n",
       "      <td>2016</td>\n",
       "      <td>42.19</td>\n",
       "    </tr>\n",
       "    <tr>\n",
       "      <th>277</th>\n",
       "      <td>FIN</td>\n",
       "      <td>2017</td>\n",
       "      <td>53.04</td>\n",
       "    </tr>\n",
       "    <tr>\n",
       "      <th>278</th>\n",
       "      <td>FIN</td>\n",
       "      <td>2018</td>\n",
       "      <td>68.49</td>\n",
       "    </tr>\n",
       "  </tbody>\n",
       "</table>\n",
       "<p>251 rows × 3 columns</p>\n",
       "</div>"
      ],
      "text/plain": [
       "    LOCATION  TIME  Value\n",
       "0        AUS  1980  31.81\n",
       "1        AUS  1981  35.88\n",
       "2        AUS  1982  35.42\n",
       "3        AUS  1983  30.88\n",
       "4        AUS  1984  29.19\n",
       "..       ...   ...    ...\n",
       "274      FIN  2014  97.53\n",
       "275      FIN  2015  49.28\n",
       "276      FIN  2016  42.19\n",
       "277      FIN  2017  53.04\n",
       "278      FIN  2018  68.49\n",
       "\n",
       "[251 rows x 3 columns]"
      ]
     },
     "execution_count": 20,
     "metadata": {},
     "output_type": "execute_result"
    }
   ],
   "source": [
    "clean_data = import_countries[:279].drop(labels = [\"INDICATOR\", \"SUBJECT\", \"MEASURE\", \"FREQUENCY\", \"Flag Codes\"] , axis = 1)\n",
    "clean_data = clean_data.dropna(axis = 0)\n",
    "\n",
    "clean_data"
   ]
  },
  {
   "cell_type": "code",
   "execution_count": 21,
   "metadata": {},
   "outputs": [
    {
     "name": "stderr",
     "output_type": "stream",
     "text": [
      "/opt/anaconda3/lib/python3.7/site-packages/ipykernel_launcher.py:16: SettingWithCopyWarning: \n",
      "A value is trying to be set on a copy of a slice from a DataFrame\n",
      "\n",
      "See the caveats in the documentation: https://pandas.pydata.org/pandas-docs/stable/user_guide/indexing.html#returning-a-view-versus-a-copy\n",
      "  app.launch_new_instance()\n"
     ]
    }
   ],
   "source": [
    "names = ('AUS', 'AUT', 'BEL', ' CAN', 'CZE','DNK', 'FIN')\n",
    "def yearly_difference(df, names):\n",
    "    df['diff'] = np.zeros(len(df['Value']))\n",
    "    for i in range(1,len(df)+28):\n",
    "        #Series of if statements skip the indexes that were removed by dropna()\n",
    "            if i in range(160,173):\n",
    "                continue\n",
    "            if i in range(176, 181):\n",
    "                continue\n",
    "            if i in range(240,253):\n",
    "                continue\n",
    "            if i in range(280, 293):\n",
    "                continue\n",
    "        #Creating the difference for each country each year\n",
    "            if df['LOCATION'][i] == df['LOCATION'][i-1]:\n",
    "                df['diff'][i] = df['Value'][i]-df['Value'][i-1]\n",
    "\n",
    "def pct_change(df):\n",
    "    #Creating the percentage change in price for each year \n",
    "    df['Pct_Chng'] = df['diff']/df['Value']\n",
    "\n",
    "    \n",
    "yearly_difference(clean_data, names)\n",
    "pct_change(clean_data)"
   ]
  },
  {
   "cell_type": "code",
   "execution_count": 22,
   "metadata": {},
   "outputs": [],
   "source": [
    "labels = clean_data['LOCATION']\n",
    "features = clean_data[['Value','diff','Pct_Chng']]\n",
    "names = labels.unique()\n",
    "\n",
    "#Using default 75/25 train/test split \n",
    "train_data, test_data, train_labs, test_labs = sklearn.model_selection.train_test_split(features,labels, \n",
    "                                                                                        random_state = 3)"
   ]
  },
  {
   "cell_type": "code",
   "execution_count": 23,
   "metadata": {},
   "outputs": [
    {
     "name": "stdout",
     "output_type": "stream",
     "text": [
      "Confusion Matrix\n",
      "[[ 1  7  0  1  0  2  0]\n",
      " [ 1 10  0  2  0  1  0]\n",
      " [ 0  2  2  3  0  0  0]\n",
      " [ 0  9  1  1  0  0  0]\n",
      " [ 0  3  0  1  0  1  0]\n",
      " [ 1  5  0  2  0  2  0]\n",
      " [ 0  3  0  2  0  0  0]] \n",
      "\n",
      "Classification Report \n",
      "\n",
      "              precision    recall  f1-score   support\n",
      "\n",
      "         AUS       0.33      0.09      0.14        11\n",
      "         AUT       0.26      0.71      0.38        14\n",
      "         BEL       0.67      0.29      0.40         7\n",
      "         CAN       0.08      0.09      0.09        11\n",
      "         CZE       0.00      0.00      0.00         5\n",
      "         DNK       0.33      0.20      0.25        10\n",
      "         FIN       0.00      0.00      0.00         5\n",
      "\n",
      "    accuracy                           0.25        63\n",
      "   macro avg       0.24      0.20      0.18        63\n",
      "weighted avg       0.26      0.25      0.21        63\n",
      "\n"
     ]
    }
   ],
   "source": [
    "train_data = np.array(train_data)\n",
    "test_data = np.array(test_data)\n",
    "\n",
    "my_model = svm.SVC(kernel='linear', C = 0.01)\n",
    "my_model.fit(test_data,test_labs)\n",
    "y_pred = my_model.predict(test_data)\n",
    "\n",
    "print(\"Confusion Matrix\")\n",
    "print(sklearn.metrics.confusion_matrix(test_labs, y_pred,labels=names),'\\n')\n",
    "\n",
    "print(\"Classification Report \\n\")\n",
    "print(sklearn.metrics.classification_report(test_labs,y_pred, target_names=names, zero_division=0))"
   ]
  },
  {
   "cell_type": "markdown",
   "metadata": {},
   "source": [
    "# PCA and Best Fit Model"
   ]
  },
  {
   "cell_type": "code",
   "execution_count": 24,
   "metadata": {},
   "outputs": [
    {
     "name": "stdout",
     "output_type": "stream",
     "text": [
      "Training set changed from a size of:  (188, 3)  to:  (188, 3)\n",
      "Testing set changed from a size of:  (63, 3)  to:  (63, 3)\n",
      "\n",
      "Explained Variance Ratio:  [8.27014191e-01 1.72971035e-01 1.47744682e-05]\n"
     ]
    }
   ],
   "source": [
    "n_components = 3\n",
    "\n",
    "pca = PCA(n_components=n_components, whiten=True)\n",
    "_ = pca.fit(train_data)\n",
    "\n",
    "pca_train_vectors = pca.transform(train_data)\n",
    "pca_test_vectors = pca.transform(test_data)\n",
    "\n",
    "print(\"Training set changed from a size of: \", train_data.shape, ' to: ', pca_train_vectors.shape)\n",
    "print(\"Testing set changed from a size of: \", test_data.shape, ' to: ', pca_test_vectors.shape)\n",
    "print(\"\")\n",
    "print('Explained Variance Ratio: ',pca.explained_variance_ratio_)"
   ]
  },
  {
   "cell_type": "code",
   "execution_count": 25,
   "metadata": {},
   "outputs": [
    {
     "name": "stdout",
     "output_type": "stream",
     "text": [
      "Best estimator found by grid search:\n",
      "SVC(C=100, gamma=1e-06, kernel='linear')\n"
     ]
    }
   ],
   "source": [
    "linear_model = svm.SVC(kernel='linear', C = [1e-3, 0.01, 0.1, 1, 10, 100],gamma = [1e-6, 1e-5, 1e-4, 1e-3, 0.01, 0.1])\n",
    "rbf_model = svm.SVC(kernel='rbf', C = [1e-3, 0.01, 0.1, 1, 10, 100],gamma = [1e-6, 1e-5, 1e-4, 1e-3, 0.01, 0.1])\n",
    "\n",
    "#GridSearch\n",
    "param_grid = {'kernel':('rbf','linear'), 'C': [1e-3, 0.01, 0.1, 1, 10, 100],'gamma': [1e-6, 1e-5, 1e-4, 1e-3, 0.01, 0.1]}\n",
    "clf = sklearn.model_selection.GridSearchCV(svm.SVC(), param_grid, n_jobs=-1)\n",
    "clf = clf.fit(train_data, train_labs)\n",
    "print(\"Best estimator found by grid search:\")\n",
    "print(clf.best_estimator_)"
   ]
  },
  {
   "cell_type": "code",
   "execution_count": 26,
   "metadata": {},
   "outputs": [
    {
     "name": "stdout",
     "output_type": "stream",
     "text": [
      "Confusion Matrix\n",
      "[[0 3 0 5 0 2 1]\n",
      " [0 9 0 4 0 1 0]\n",
      " [0 2 2 3 0 0 0]\n",
      " [0 1 1 7 0 0 2]\n",
      " [0 2 1 1 0 1 0]\n",
      " [0 4 0 2 0 2 2]\n",
      " [0 0 2 2 0 0 1]] \n",
      "\n",
      "Classification Report \n",
      "\n",
      "              precision    recall  f1-score   support\n",
      "\n",
      "         AUS       0.00      0.00      0.00        11\n",
      "         AUT       0.43      0.64      0.51        14\n",
      "         BEL       0.33      0.29      0.31         7\n",
      "         CAN       0.29      0.64      0.40        11\n",
      "         CZE       0.00      0.00      0.00         5\n",
      "         DNK       0.33      0.20      0.25        10\n",
      "         FIN       0.17      0.20      0.18         5\n",
      "\n",
      "    accuracy                           0.33        63\n",
      "   macro avg       0.22      0.28      0.24        63\n",
      "weighted avg       0.25      0.33      0.27        63\n",
      "\n"
     ]
    }
   ],
   "source": [
    "#SVM Model using the best estimator parameters from PCA\n",
    "my_model = svm.SVC(kernel='linear', C=100, gamma=1e-06)\n",
    "my_model.fit(test_data,test_labs)\n",
    "y_pred = my_model.predict(test_data)\n",
    "\n",
    "print(\"Confusion Matrix\")\n",
    "print(sklearn.metrics.confusion_matrix(test_labs, y_pred,labels=names),'\\n')\n",
    "\n",
    "print(\"Classification Report \\n\")\n",
    "print(sklearn.metrics.classification_report(test_labs,y_pred, target_names=names, zero_division= 0))"
   ]
  },
  {
   "cell_type": "markdown",
   "metadata": {},
   "source": [
    "# References"
   ]
  },
  {
   "cell_type": "markdown",
   "metadata": {},
   "source": [
    "- https://machinelearningmastery.com/make-predictions-time-series-forecasting-python/\n",
    "- https://data.oecd.org/energy/crude-oil-import-prices.htm"
   ]
  },
  {
   "cell_type": "code",
   "execution_count": null,
   "metadata": {},
   "outputs": [],
   "source": []
  }
 ],
 "metadata": {
  "kernelspec": {
   "display_name": "Python 3",
   "language": "python",
   "name": "python3"
  },
  "language_info": {
   "codemirror_mode": {
    "name": "ipython",
    "version": 3
   },
   "file_extension": ".py",
   "mimetype": "text/x-python",
   "name": "python",
   "nbconvert_exporter": "python",
   "pygments_lexer": "ipython3",
   "version": "3.7.3"
  }
 },
 "nbformat": 4,
 "nbformat_minor": 4
}
